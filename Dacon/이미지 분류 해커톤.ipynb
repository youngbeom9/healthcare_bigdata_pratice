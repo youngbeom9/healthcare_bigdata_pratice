{
 "cells": [
  {
   "cell_type": "code",
   "execution_count": 138,
   "metadata": {},
   "outputs": [
    {
     "name": "stdout",
     "output_type": "stream",
     "text": [
      "Validation Accuracy: 0.8506493506493507\n",
      "[3 4 6 4 9 6 6 5 2 7 2 1 9 2 3 2 4 0 5 6 9 9 4 9 8 2 6 3 3 5 4 9 6 3 0 8 3\n",
      " 4 6 4 9 2 1 5 8 2 1 8 8 2 4 9 3 8 8 8 4 7 6 8 4 8 0 2 3 1 8 8 5 4 2 0 2 6\n",
      " 0 8 4 9 3 2 4 5 8 1 3 3 6 5 8 3 0 3 6 6 1 0 4 5 8 1 4 0 2 8 1 5 6 4 6 4 4\n",
      " 3 3 3 3 3 1 3 5 6 4 8 4 4 0 9 0 8 0 8 0 1 9 2 8 2 1 3 8 0 4 1 2 4 8 8 6 8\n",
      " 9 1 1 7 4 3 8 9 5 2 8 5 1 5 3 7 9 6 4 1 6 9 9 3 9 6 6 8 8 1 6 4 0 8 9 4 8\n",
      " 6 6 4 1 8 4 8 7 4 6 5 4 8 9 4 3 2 3 3 2 9 9 4 8 5 4 2 6 2 3 7 5 8 4 1 7 6\n",
      " 1 8 1 0 2 7 3 4 2 5 6 0 9 2 0 8 3 3 1 9 4 2 8 7 5 4 7 6]\n",
      "['bird', 'building', 'emotion_face', 'building', 'truck', 'emotion_face', 'emotion_face', 'cat', 'ball', 'police_car', 'ball', 'apple', 'truck', 'ball', 'bird', 'ball', 'building', 'airplane', 'cat', 'emotion_face', 'truck', 'truck', 'building', 'truck', 'rabbit', 'ball', 'emotion_face', 'bird', 'bird', 'cat', 'building', 'truck', 'emotion_face', 'bird', 'airplane', 'rabbit', 'bird', 'building', 'emotion_face', 'building', 'truck', 'ball', 'apple', 'cat', 'rabbit', 'ball', 'apple', 'rabbit', 'rabbit', 'ball', 'building', 'truck', 'bird', 'rabbit', 'rabbit', 'rabbit', 'building', 'police_car', 'emotion_face', 'rabbit', 'building', 'rabbit', 'airplane', 'ball', 'bird', 'apple', 'rabbit', 'rabbit', 'cat', 'building', 'ball', 'airplane', 'ball', 'emotion_face', 'airplane', 'rabbit', 'building', 'truck', 'bird', 'ball', 'building', 'cat', 'rabbit', 'apple', 'bird', 'bird', 'emotion_face', 'cat', 'rabbit', 'bird', 'airplane', 'bird', 'emotion_face', 'emotion_face', 'apple', 'airplane', 'building', 'cat', 'rabbit', 'apple', 'building', 'airplane', 'ball', 'rabbit', 'apple', 'cat', 'emotion_face', 'building', 'emotion_face', 'building', 'building', 'bird', 'bird', 'bird', 'bird', 'bird', 'apple', 'bird', 'cat', 'emotion_face', 'building', 'rabbit', 'building', 'building', 'airplane', 'truck', 'airplane', 'rabbit', 'airplane', 'rabbit', 'airplane', 'apple', 'truck', 'ball', 'rabbit', 'ball', 'apple', 'bird', 'rabbit', 'airplane', 'building', 'apple', 'ball', 'building', 'rabbit', 'rabbit', 'emotion_face', 'rabbit', 'truck', 'apple', 'apple', 'police_car', 'building', 'bird', 'rabbit', 'truck', 'cat', 'ball', 'rabbit', 'cat', 'apple', 'cat', 'bird', 'police_car', 'truck', 'emotion_face', 'building', 'apple', 'emotion_face', 'truck', 'truck', 'bird', 'truck', 'emotion_face', 'emotion_face', 'rabbit', 'rabbit', 'apple', 'emotion_face', 'building', 'airplane', 'rabbit', 'truck', 'building', 'rabbit', 'emotion_face', 'emotion_face', 'building', 'apple', 'rabbit', 'building', 'rabbit', 'police_car', 'building', 'emotion_face', 'cat', 'building', 'rabbit', 'truck', 'building', 'bird', 'ball', 'bird', 'bird', 'ball', 'truck', 'truck', 'building', 'rabbit', 'cat', 'building', 'ball', 'emotion_face', 'ball', 'bird', 'police_car', 'cat', 'rabbit', 'building', 'apple', 'police_car', 'emotion_face', 'apple', 'rabbit', 'apple', 'airplane', 'ball', 'police_car', 'bird', 'building', 'ball', 'cat', 'emotion_face', 'airplane', 'truck', 'ball', 'airplane', 'rabbit', 'bird', 'bird', 'apple', 'truck', 'building', 'ball', 'rabbit', 'police_car', 'cat', 'building', 'police_car', 'emotion_face']\n"
     ]
    }
   ],
   "source": [
    "import pandas as pd\n",
    "from sklearn.model_selection import train_test_split\n",
    "from sklearn.preprocessing import StandardScaler\n",
    "from sklearn.svm import SVC\n",
    "from sklearn.multiclass import OneVsRestClassifier\n",
    "from sklearn.metrics import accuracy_score\n",
    "\n",
    "label_map = {\n",
    "    'airplane': 0,\n",
    "    'apple': 1,\n",
    "    'ball': 2,\n",
    "    'bird': 3,\n",
    "    'building': 4,\n",
    "    'cat': 5,\n",
    "    'emotion_face': 6,\n",
    "    'police_car': 7,\n",
    "    'rabbit': 8,\n",
    "    'truck': 9\n",
    "}\n",
    "\n",
    "re_label_map = {\n",
    "    0: 'airplane',\n",
    "    1: 'apple',\n",
    "    2: 'ball',\n",
    "    3: 'bird',\n",
    "    4: 'building',\n",
    "    5: 'cat',\n",
    "    6: 'emotion_face',\n",
    "    7: 'police_car',\n",
    "    8: 'rabbit',\n",
    "    9: 'truck'\n",
    "}\n",
    "\n",
    "train_data = pd.read_csv(r\"C:\\Users\\302-28\\git-repo\\Dacon\\open\\train.csv\")\n",
    "\n",
    "test_data = pd.read_csv(r\"C:\\Users\\302-28\\git-repo\\Dacon\\open\\test.csv\")\n",
    "\n",
    "train_features = train_data.drop(['ID', 'label'], axis=1)  \n",
    "train_labels = train_data['label']  \n",
    "train_labels = list(map(lambda x: label_map[x], train_labels))  \n",
    "\n",
    "ob_test = test_data.drop('ID', axis=1)  \n",
    "\n",
    "train_X, test_X, train_y, test_y = train_test_split(train_features, train_labels, test_size=0.2, random_state=999)\n",
    "\n",
    "scaler = StandardScaler()\n",
    "train_X = scaler.fit_transform(train_X)\n",
    "test_X = scaler.transform(test_X)\n",
    "ob_test = scaler.transform(ob_test)\n",
    "                           \n",
    "svm = SVC(kernel='poly', C= 1, gamma='scale')  \n",
    "orc = OneVsRestClassifier(svm)  \n",
    "\n",
    "orc.fit(train_X, train_y)\n",
    "\n",
    "predicted = orc.predict(test_X)\n",
    "ac = accuracy_score(test_y, predicted)\n",
    "print(\"Validation Accuracy:\", ac)\n",
    "\n",
    "result = orc.predict(ob_test)\n",
    "\n",
    "aaa = pd.read_csv(r\"C:\\Users\\302-28\\git-repo\\Dacon\\open\\sample_submission.csv\")\n",
    "\n",
    "p = orc.predict(ob_test)\n",
    "\n",
    "print(p)\n",
    "\n",
    "result = list(map(lambda x: re_label_map[x], p))\n",
    "\n",
    "print(result)\n",
    "\n",
    "aaa.drop('label', axis= 1, inplace= True)\n",
    "\n",
    "aaa['label'] = result\n",
    "\n",
    "# aaa.to_csv('result.csv', index = False)"
   ]
  },
  {
   "cell_type": "code",
   "execution_count": 132,
   "metadata": {},
   "outputs": [
    {
     "name": "stdout",
     "output_type": "stream",
     "text": [
      "Fitting 5 folds for each of 48 candidates, totalling 240 fits\n",
      "Best parameters found:  {'estimator__C': 1, 'estimator__gamma': 'scale', 'estimator__kernel': 'poly'}\n"
     ]
    }
   ],
   "source": [
    "from sklearn.model_selection import GridSearchCV\n",
    "from sklearn.svm import SVC\n",
    "from sklearn.multiclass import OneVsRestClassifier\n",
    "\n",
    "# 하이퍼파라미터 범위 설정\n",
    "param_grid = {\n",
    "    'estimator__C': [0.1, 1, 10, 100],\n",
    "    'estimator__gamma': ['scale', 'auto', 0.1, 0.01],\n",
    "    'estimator__kernel': ['rbf', 'linear', 'poly']\n",
    "}\n",
    "\n",
    "# SVM 모델 정의\n",
    "svm = SVC()\n",
    "\n",
    "# One-vs-Rest 방식\n",
    "orc = OneVsRestClassifier(svm)\n",
    "\n",
    "# GridSearchCV 설정 (교차검증을 사용하여 하이퍼파라미터 조합 평가)\n",
    "grid_search = GridSearchCV(orc, param_grid, cv=5, n_jobs=-1, verbose=2)\n",
    "\n",
    "# 하이퍼파라미터 튜닝 시작\n",
    "grid_search.fit(train_X, train_y)\n",
    "\n",
    "# 최적의 하이퍼파라미터 출력\n",
    "print(\"Best parameters found: \", grid_search.best_params_)"
   ]
  }
 ],
 "metadata": {
  "kernelspec": {
   "display_name": "base",
   "language": "python",
   "name": "python3"
  },
  "language_info": {
   "codemirror_mode": {
    "name": "ipython",
    "version": 3
   },
   "file_extension": ".py",
   "mimetype": "text/x-python",
   "name": "python",
   "nbconvert_exporter": "python",
   "pygments_lexer": "ipython3",
   "version": "3.12.7"
  }
 },
 "nbformat": 4,
 "nbformat_minor": 2
}
