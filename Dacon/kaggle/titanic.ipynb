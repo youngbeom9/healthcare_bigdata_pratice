{
 "cells": [
  {
   "cell_type": "markdown",
   "metadata": {},
   "source": [
    "0.777 성능"
   ]
  },
  {
   "cell_type": "code",
   "execution_count": 1,
   "metadata": {},
   "outputs": [
    {
     "name": "stdout",
     "output_type": "stream",
     "text": [
      "[0 0 0 0 0 0 1 0 1 0 0 1 0 0 1 1 1 0 0 0 0 0 0 0 0 0 0 0 0 0 0 0 0 0 0 0 0\n",
      " 0 0 0 0 1 0 0 0 0 1 0 0 0 1 0 0 0 0 1 0 0 0 0 0 0 0 0 0 0 0 1 0 0 0 0 1 0\n",
      " 0 0 1 0 0 0 0 0 0 0 0 0 0 0 1 0 0 0 0 0 1 1 0 0 0 0 0 0 1 0 0 1 1 0 1 0 1\n",
      " 0 0 1 0 0 0 1 0 1 0 1 0 0 0 1 0 1 0 0 0 1 0 0 0 1 0 1 0 0 1 0 0 0 0 1 1 0\n",
      " 0 0 1 1 0 1 0 0 0 0 0 0 0 1 0 0 0 0 1 0 0 0 0 1 0 0 0 0 1 0 0] 0.7877094972067039\n"
     ]
    }
   ],
   "source": [
    "import pandas as pd\n",
    "import numpy as np\n",
    "from sklearn.model_selection import train_test_split\n",
    "from sklearn.preprocessing import StandardScaler\n",
    "from sklearn.svm import SVC\n",
    "from sklearn.metrics import accuracy_score\n",
    "\n",
    "\n",
    "train_data = pd.read_csv(r\"C:\\Users\\302-28\\Desktop\\titanic\\train.csv\")\n",
    "real_test = pd.read_csv(r\"C:\\Users\\302-28\\Desktop\\titanic\\test.csv\")\n",
    "\n",
    "real_test = real_test.drop(['PassengerId', 'Age','Name','Ticket','Cabin','Embarked'], axis = 1)\n",
    "real_test['Fare'] = real_test['Fare'].fillna(real_test['Fare'].mean())\n",
    "\n",
    "real_test = real_test.dropna()\n",
    "train_data = train_data.drop(['PassengerId', 'Name','Age','Ticket','Cabin','Embarked'], axis = 1)\n",
    "\n",
    "train_data = train_data.dropna()\n",
    "\n",
    "train_labels = train_data['Survived']\n",
    "train_data = train_data.drop('Survived', axis = 1)\n",
    "\n",
    "train_data['Sex'] = np.where(train_data['Sex'] == 'male', 0, 1)\n",
    "real_test['Sex'] = np.where(real_test['Sex'] == 'male', 0, 1)\n",
    "train_X, test_X, train_y, test_y = train_test_split(train_data, train_labels, test_size=0.2, random_state=999)\n",
    "\n",
    "scaler = StandardScaler()\n",
    "train_X = scaler.fit_transform(train_X)\n",
    "test_X = scaler.transform(test_X)\n",
    "real_test = scaler.transform(real_test)\n",
    "logi = SVC(kernel='poly', C=1, gamma= 'auto')\n",
    "logi.fit(train_X,train_y)\n",
    "\n",
    "predicted = logi.predict(test_X)\n",
    "ac = accuracy_score(test_y, predicted)\n",
    "print(predicted, ac)\n",
    "\n",
    "a = pd.read_csv(r\"C:\\Users\\302-28\\Desktop\\titanic\\gender_submission.csv\")\n",
    "real_prec = logi.predict(real_test)\n",
    "a.drop('Survived',axis=1, inplace= True)\n",
    "a['Survived']= real_prec\n",
    "a.to_csv('tanic.csv', index=False)"
   ]
  },
  {
   "cell_type": "code",
   "execution_count": 2,
   "metadata": {},
   "outputs": [
    {
     "name": "stdout",
     "output_type": "stream",
     "text": [
      "Fitting 5 folds for each of 48 candidates, totalling 240 fits\n",
      "Best parameters found:  {'C': 1, 'gamma': 'auto', 'kernel': 'poly'}\n"
     ]
    }
   ],
   "source": [
    "from sklearn.model_selection import GridSearchCV\n",
    "from sklearn.svm import SVC\n",
    "\n",
    "# 하이퍼파라미터 범위 설정\n",
    "param_grid = {\n",
    "    'C': [0.1, 1, 10, 100],\n",
    "    'gamma': ['scale', 'auto', 0.1, 0.01],\n",
    "    'kernel': ['rbf', 'linear', 'poly']\n",
    "}\n",
    "\n",
    "# SVM 모델 정의\n",
    "svm = SVC()\n",
    "\n",
    "# GridSearchCV 설정 (교차검증을 사용하여 하이퍼파라미터 조합 평가)\n",
    "grid_search = GridSearchCV(svm, param_grid, cv=5, n_jobs=-1, verbose=2)\n",
    "\n",
    "# 하이퍼파라미터 튜닝 시작\n",
    "grid_search.fit(train_X, train_y)\n",
    "\n",
    "# 최적의 하이퍼파라미터 출력\n",
    "print(\"Best parameters found: \", grid_search.best_params_)"
   ]
  }
 ],
 "metadata": {
  "kernelspec": {
   "display_name": "base",
   "language": "python",
   "name": "python3"
  },
  "language_info": {
   "codemirror_mode": {
    "name": "ipython",
    "version": 3
   },
   "file_extension": ".py",
   "mimetype": "text/x-python",
   "name": "python",
   "nbconvert_exporter": "python",
   "pygments_lexer": "ipython3",
   "version": "3.12.7"
  }
 },
 "nbformat": 4,
 "nbformat_minor": 2
}
